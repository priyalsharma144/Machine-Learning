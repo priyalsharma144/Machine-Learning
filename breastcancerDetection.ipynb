{
  "nbformat": 4,
  "nbformat_minor": 0,
  "metadata": {
    "colab": {
      "name": "breastcancerDetection",
      "provenance": [],
      "collapsed_sections": [],
      "authorship_tag": "ABX9TyNO/5xBBvP+ND+CjV7N4XlZ",
      "include_colab_link": true
    },
    "kernelspec": {
      "name": "python3",
      "display_name": "Python 3"
    },
    "language_info": {
      "name": "python"
    }
  },
  "cells": [
    {
      "cell_type": "markdown",
      "metadata": {
        "id": "view-in-github",
        "colab_type": "text"
      },
      "source": [
        "<a href=\"https://colab.research.google.com/github/priyalsharma144/Machine-Learning/blob/main/breastcancerDetection.ipynb\" target=\"_parent\"><img src=\"https://colab.research.google.com/assets/colab-badge.svg\" alt=\"Open In Colab\"/></a>"
      ]
    },
    {
      "cell_type": "markdown",
      "metadata": {
        "id": "O2Gt1KE5tqdH"
      },
      "source": [
        "# Data Processing\n"
      ]
    },
    {
      "cell_type": "code",
      "metadata": {
        "id": "Jn6fMp_Kwu5u"
      },
      "source": [
        "import pandas as pd\n",
        "import numpy as np\n"
      ],
      "execution_count": null,
      "outputs": []
    },
    {
      "cell_type": "code",
      "metadata": {
        "id": "2hYO6aP60UVg"
      },
      "source": [
        "dataset= pd.read_csv(\"data.csv\")\n",
        "x = dataset.iloc[:,1:-1].values\n",
        "y = dataset.iloc[:,-1].values"
      ],
      "execution_count": null,
      "outputs": []
    },
    {
      "cell_type": "code",
      "metadata": {
        "id": "aHHbgx880vfR"
      },
      "source": [
        "from sklearn.model_selection import train_test_split\n",
        "xtr,xts,ytr,yts= train_test_split(x,y, test_size=0.3, random_state=0)"
      ],
      "execution_count": null,
      "outputs": []
    },
    {
      "cell_type": "code",
      "metadata": {
        "id": "PKiBk0bf19Lr"
      },
      "source": [
        "from sklearn.preprocessing import StandardScaler\n",
        "sc= StandardScaler()\n",
        "xtr= sc.fit_transform(xtr)\n",
        "xts= sc.transform(xts)"
      ],
      "execution_count": null,
      "outputs": []
    },
    {
      "cell_type": "markdown",
      "metadata": {
        "id": "LL61ZAxGt-B-"
      },
      "source": [
        "# Building Logistic Regression Model"
      ]
    },
    {
      "cell_type": "code",
      "metadata": {
        "colab": {
          "base_uri": "https://localhost:8080/"
        },
        "id": "61vEZbpH1I8-",
        "outputId": "5e0d078a-599d-4bdb-ad39-dc4d10b662c0"
      },
      "source": [
        "from sklearn.linear_model import LogisticRegression\n",
        "lr= LogisticRegression(random_state=0)\n",
        "lr.fit(xtr,ytr)"
      ],
      "execution_count": null,
      "outputs": [
        {
          "output_type": "execute_result",
          "data": {
            "text/plain": [
              "LogisticRegression(C=1.0, class_weight=None, dual=False, fit_intercept=True,\n",
              "                   intercept_scaling=1, l1_ratio=None, max_iter=100,\n",
              "                   multi_class='auto', n_jobs=None, penalty='l2',\n",
              "                   random_state=0, solver='lbfgs', tol=0.0001, verbose=0,\n",
              "                   warm_start=False)"
            ]
          },
          "metadata": {
            "tags": []
          },
          "execution_count": 5
        }
      ]
    },
    {
      "cell_type": "markdown",
      "metadata": {
        "id": "wxMRrBNyuWa1"
      },
      "source": [
        "# Predicting result"
      ]
    },
    {
      "cell_type": "code",
      "metadata": {
        "id": "UxeX5rdw2xMu"
      },
      "source": [
        "ypred= lr.predict(xts)\n"
      ],
      "execution_count": null,
      "outputs": []
    },
    {
      "cell_type": "code",
      "metadata": {
        "colab": {
          "base_uri": "https://localhost:8080/"
        },
        "id": "Xx_FPnWn21aI",
        "outputId": "8991f58d-7300-434a-cb6d-2cc43c2948e4"
      },
      "source": [
        "print(np.concatenate((yts.reshape(len(ypred),1), ypred.reshape(len(ypred),1)), 1))"
      ],
      "execution_count": null,
      "outputs": [
        {
          "output_type": "stream",
          "text": [
            "[['M' 'M']\n",
            " ['B' 'B']\n",
            " ['B' 'B']\n",
            " ['B' 'B']\n",
            " ['B' 'B']\n",
            " ['B' 'B']\n",
            " ['B' 'B']\n",
            " ['B' 'B']\n",
            " ['B' 'B']\n",
            " ['B' 'B']\n",
            " ['B' 'B']\n",
            " ['B' 'B']\n",
            " ['B' 'B']\n",
            " ['B' 'B']\n",
            " ['B' 'B']\n",
            " ['M' 'M']\n",
            " ['B' 'B']\n",
            " ['M' 'M']\n",
            " ['M' 'M']\n",
            " ['M' 'M']\n",
            " ['M' 'M']\n",
            " ['M' 'M']\n",
            " ['B' 'B']\n",
            " ['B' 'B']\n",
            " ['M' 'M']\n",
            " ['B' 'B']\n",
            " ['B' 'B']\n",
            " ['M' 'M']\n",
            " ['B' 'B']\n",
            " ['M' 'M']\n",
            " ['B' 'B']\n",
            " ['M' 'M']\n",
            " ['B' 'B']\n",
            " ['M' 'M']\n",
            " ['B' 'B']\n",
            " ['M' 'M']\n",
            " ['B' 'B']\n",
            " ['M' 'M']\n",
            " ['B' 'B']\n",
            " ['M' 'M']\n",
            " ['M' 'M']\n",
            " ['B' 'B']\n",
            " ['M' 'M']\n",
            " ['B' 'B']\n",
            " ['B' 'B']\n",
            " ['M' 'M']\n",
            " ['B' 'B']\n",
            " ['B' 'B']\n",
            " ['B' 'B']\n",
            " ['M' 'M']\n",
            " ['M' 'M']\n",
            " ['M' 'M']\n",
            " ['M' 'M']\n",
            " ['B' 'B']\n",
            " ['B' 'B']\n",
            " ['B' 'B']\n",
            " ['B' 'B']\n",
            " ['B' 'B']\n",
            " ['B' 'B']\n",
            " ['M' 'M']\n",
            " ['M' 'M']\n",
            " ['M' 'M']\n",
            " ['B' 'B']\n",
            " ['B' 'B']\n",
            " ['M' 'M']\n",
            " ['B' 'B']\n",
            " ['M' 'M']\n",
            " ['M' 'M']\n",
            " ['M' 'M']\n",
            " ['B' 'B']\n",
            " ['B' 'B']\n",
            " ['M' 'M']\n",
            " ['B' 'B']\n",
            " ['M' 'M']\n",
            " ['M' 'M']\n",
            " ['B' 'B']\n",
            " ['B' 'B']\n",
            " ['B' 'B']\n",
            " ['B' 'B']\n",
            " ['B' 'B']\n",
            " ['M' 'M']\n",
            " ['M' 'M']\n",
            " ['M' 'M']\n",
            " ['B' 'B']\n",
            " ['M' 'M']\n",
            " ['B' 'B']\n",
            " ['B' 'B']\n",
            " ['B' 'B']\n",
            " ['M' 'M']\n",
            " ['M' 'M']\n",
            " ['B' 'B']\n",
            " ['M' 'M']\n",
            " ['B' 'M']\n",
            " ['M' 'M']\n",
            " ['B' 'B']\n",
            " ['B' 'B']\n",
            " ['M' 'M']\n",
            " ['B' 'B']\n",
            " ['B' 'B']\n",
            " ['B' 'B']\n",
            " ['B' 'B']\n",
            " ['B' 'B']\n",
            " ['B' 'B']\n",
            " ['B' 'B']\n",
            " ['M' 'M']\n",
            " ['B' 'B']\n",
            " ['M' 'M']\n",
            " ['B' 'B']\n",
            " ['M' 'B']\n",
            " ['M' 'B']\n",
            " ['B' 'B']\n",
            " ['M' 'M']\n",
            " ['M' 'M']\n",
            " ['B' 'B']\n",
            " ['B' 'B']\n",
            " ['B' 'B']\n",
            " ['B' 'B']\n",
            " ['B' 'B']\n",
            " ['B' 'B']\n",
            " ['B' 'B']\n",
            " ['B' 'B']\n",
            " ['B' 'B']\n",
            " ['M' 'B']\n",
            " ['B' 'B']\n",
            " ['M' 'M']\n",
            " ['B' 'B']\n",
            " ['B' 'B']\n",
            " ['B' 'B']\n",
            " ['B' 'B']\n",
            " ['B' 'B']\n",
            " ['M' 'M']\n",
            " ['B' 'B']\n",
            " ['B' 'B']\n",
            " ['B' 'B']\n",
            " ['B' 'B']\n",
            " ['B' 'B']\n",
            " ['B' 'B']\n",
            " ['M' 'M']\n",
            " ['M' 'M']\n",
            " ['B' 'B']\n",
            " ['B' 'B']\n",
            " ['B' 'B']\n",
            " ['M' 'M']\n",
            " ['B' 'B']\n",
            " ['B' 'B']\n",
            " ['M' 'M']\n",
            " ['B' 'B']\n",
            " ['M' 'M']\n",
            " ['B' 'B']\n",
            " ['B' 'B']\n",
            " ['B' 'B']\n",
            " ['B' 'B']\n",
            " ['B' 'B']\n",
            " ['B' 'B']\n",
            " ['B' 'B']\n",
            " ['M' 'M']\n",
            " ['B' 'B']\n",
            " ['M' 'M']\n",
            " ['B' 'B']\n",
            " ['M' 'M']\n",
            " ['M' 'M']\n",
            " ['B' 'B']\n",
            " ['B' 'B']\n",
            " ['M' 'M']\n",
            " ['B' 'B']\n",
            " ['M' 'M']\n",
            " ['M' 'M']\n",
            " ['M' 'M']\n",
            " ['B' 'B']\n",
            " ['B' 'B']\n",
            " ['B' 'B']]\n"
          ],
          "name": "stdout"
        }
      ]
    },
    {
      "cell_type": "code",
      "metadata": {
        "colab": {
          "base_uri": "https://localhost:8080/"
        },
        "id": "58XSSaLb73J5",
        "outputId": "692d0d65-f414-4225-d5aa-a1abc03cbe46"
      },
      "source": [
        "from sklearn.metrics import confusion_matrix, accuracy_score\n",
        "cm= confusion_matrix(yts,ypred)\n",
        "print(cm)\n",
        "print(accuracy_score(yts, ypred))"
      ],
      "execution_count": null,
      "outputs": [
        {
          "output_type": "stream",
          "text": [
            "[[107   1]\n",
            " [  3  60]]\n",
            "0.9766081871345029\n"
          ],
          "name": "stdout"
        }
      ]
    },
    {
      "cell_type": "code",
      "metadata": {
        "colab": {
          "base_uri": "https://localhost:8080/"
        },
        "id": "oA4J3E1R82Wu",
        "outputId": "c8d1a0c7-ff37-49df-a2a1-5093963c7366"
      },
      "source": [
        "from sklearn.model_selection import cross_val_score\n",
        "accuracies= cross_val_score(estimator= lr,X= xtr, y=ytr, cv=10)\n",
        "print(accuracies.mean())"
      ],
      "execution_count": null,
      "outputs": [
        {
          "output_type": "stream",
          "text": [
            "0.985\n"
          ],
          "name": "stdout"
        }
      ]
    }
  ]
}